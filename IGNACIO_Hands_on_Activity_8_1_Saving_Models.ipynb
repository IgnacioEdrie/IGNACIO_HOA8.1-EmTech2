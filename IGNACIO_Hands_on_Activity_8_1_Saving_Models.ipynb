{
  "nbformat": 4,
  "nbformat_minor": 0,
  "metadata": {
    "colab": {
      "provenance": [],
      "collapsed_sections": [
        "QqrZu-i3p_ZT"
      ]
    },
    "kernelspec": {
      "name": "python3",
      "display_name": "Python 3"
    },
    "language_info": {
      "name": "python"
    }
  },
  "cells": [
    {
      "cell_type": "markdown",
      "source": [
        "**Assignment 8.1 : Saving Models**"
      ],
      "metadata": {
        "id": "MGdl0Yz1orzs"
      }
    },
    {
      "cell_type": "markdown",
      "source": [
        "Name: Ignacio, Edrie<br>\n",
        "Course and Section: CPE019 - CPE32S1<br>\n",
        "Date of Submission: 07/06/2024<br>\n",
        "Instructor: Engr. Roman M. Richard<br>"
      ],
      "metadata": {
        "id": "n3YRI638o1tE"
      }
    },
    {
      "cell_type": "markdown",
      "source": [
        "# **1.) Choose any dataset applicable to either a classification problem or a regression problem.**\n"
      ],
      "metadata": {
        "id": "QqrZu-i3p_ZT"
      }
    },
    {
      "cell_type": "code",
      "source": [
        "import numpy as np\n",
        "import pandas as pd\n",
        "import cv2"
      ],
      "metadata": {
        "id": "Ua9Xkburqoad"
      },
      "execution_count": null,
      "outputs": []
    },
    {
      "cell_type": "markdown",
      "source": [
        "- Import the libraries to read the dataset"
      ],
      "metadata": {
        "id": "RixbHbA0qp6G"
      }
    },
    {
      "cell_type": "code",
      "execution_count": null,
      "metadata": {
        "colab": {
          "base_uri": "https://localhost:8080/",
          "height": 423
        },
        "id": "14H_pL1gomxu",
        "outputId": "e0a386da-d01e-48dd-d1fb-126e3f712950"
      },
      "outputs": [
        {
          "output_type": "execute_result",
          "data": {
            "text/plain": [
              "      age  sex  chest pain type  resting bp s  cholesterol  \\\n",
              "0      40    1                2           140          289   \n",
              "1      49    0                3           160          180   \n",
              "2      37    1                2           130          283   \n",
              "3      48    0                4           138          214   \n",
              "4      54    1                3           150          195   \n",
              "...   ...  ...              ...           ...          ...   \n",
              "1185   45    1                1           110          264   \n",
              "1186   68    1                4           144          193   \n",
              "1187   57    1                4           130          131   \n",
              "1188   57    0                2           130          236   \n",
              "1189   38    1                3           138          175   \n",
              "\n",
              "      fasting blood sugar  resting ecg  max heart rate  exercise angina  \\\n",
              "0                       0            0             172                0   \n",
              "1                       0            0             156                0   \n",
              "2                       0            1              98                0   \n",
              "3                       0            0             108                1   \n",
              "4                       0            0             122                0   \n",
              "...                   ...          ...             ...              ...   \n",
              "1185                    0            0             132                0   \n",
              "1186                    1            0             141                0   \n",
              "1187                    0            0             115                1   \n",
              "1188                    0            2             174                0   \n",
              "1189                    0            0             173                0   \n",
              "\n",
              "      oldpeak  ST slope  target  \n",
              "0         0.0         1       0  \n",
              "1         1.0         2       1  \n",
              "2         0.0         1       0  \n",
              "3         1.5         2       1  \n",
              "4         0.0         1       0  \n",
              "...       ...       ...     ...  \n",
              "1185      1.2         2       1  \n",
              "1186      3.4         2       1  \n",
              "1187      1.2         2       1  \n",
              "1188      0.0         2       1  \n",
              "1189      0.0         1       0  \n",
              "\n",
              "[1190 rows x 12 columns]"
            ],
            "text/html": [
              "\n",
              "  <div id=\"df-e80864c5-f454-4a3d-9f7d-68957d796552\" class=\"colab-df-container\">\n",
              "    <div>\n",
              "<style scoped>\n",
              "    .dataframe tbody tr th:only-of-type {\n",
              "        vertical-align: middle;\n",
              "    }\n",
              "\n",
              "    .dataframe tbody tr th {\n",
              "        vertical-align: top;\n",
              "    }\n",
              "\n",
              "    .dataframe thead th {\n",
              "        text-align: right;\n",
              "    }\n",
              "</style>\n",
              "<table border=\"1\" class=\"dataframe\">\n",
              "  <thead>\n",
              "    <tr style=\"text-align: right;\">\n",
              "      <th></th>\n",
              "      <th>age</th>\n",
              "      <th>sex</th>\n",
              "      <th>chest pain type</th>\n",
              "      <th>resting bp s</th>\n",
              "      <th>cholesterol</th>\n",
              "      <th>fasting blood sugar</th>\n",
              "      <th>resting ecg</th>\n",
              "      <th>max heart rate</th>\n",
              "      <th>exercise angina</th>\n",
              "      <th>oldpeak</th>\n",
              "      <th>ST slope</th>\n",
              "      <th>target</th>\n",
              "    </tr>\n",
              "  </thead>\n",
              "  <tbody>\n",
              "    <tr>\n",
              "      <th>0</th>\n",
              "      <td>40</td>\n",
              "      <td>1</td>\n",
              "      <td>2</td>\n",
              "      <td>140</td>\n",
              "      <td>289</td>\n",
              "      <td>0</td>\n",
              "      <td>0</td>\n",
              "      <td>172</td>\n",
              "      <td>0</td>\n",
              "      <td>0.0</td>\n",
              "      <td>1</td>\n",
              "      <td>0</td>\n",
              "    </tr>\n",
              "    <tr>\n",
              "      <th>1</th>\n",
              "      <td>49</td>\n",
              "      <td>0</td>\n",
              "      <td>3</td>\n",
              "      <td>160</td>\n",
              "      <td>180</td>\n",
              "      <td>0</td>\n",
              "      <td>0</td>\n",
              "      <td>156</td>\n",
              "      <td>0</td>\n",
              "      <td>1.0</td>\n",
              "      <td>2</td>\n",
              "      <td>1</td>\n",
              "    </tr>\n",
              "    <tr>\n",
              "      <th>2</th>\n",
              "      <td>37</td>\n",
              "      <td>1</td>\n",
              "      <td>2</td>\n",
              "      <td>130</td>\n",
              "      <td>283</td>\n",
              "      <td>0</td>\n",
              "      <td>1</td>\n",
              "      <td>98</td>\n",
              "      <td>0</td>\n",
              "      <td>0.0</td>\n",
              "      <td>1</td>\n",
              "      <td>0</td>\n",
              "    </tr>\n",
              "    <tr>\n",
              "      <th>3</th>\n",
              "      <td>48</td>\n",
              "      <td>0</td>\n",
              "      <td>4</td>\n",
              "      <td>138</td>\n",
              "      <td>214</td>\n",
              "      <td>0</td>\n",
              "      <td>0</td>\n",
              "      <td>108</td>\n",
              "      <td>1</td>\n",
              "      <td>1.5</td>\n",
              "      <td>2</td>\n",
              "      <td>1</td>\n",
              "    </tr>\n",
              "    <tr>\n",
              "      <th>4</th>\n",
              "      <td>54</td>\n",
              "      <td>1</td>\n",
              "      <td>3</td>\n",
              "      <td>150</td>\n",
              "      <td>195</td>\n",
              "      <td>0</td>\n",
              "      <td>0</td>\n",
              "      <td>122</td>\n",
              "      <td>0</td>\n",
              "      <td>0.0</td>\n",
              "      <td>1</td>\n",
              "      <td>0</td>\n",
              "    </tr>\n",
              "    <tr>\n",
              "      <th>...</th>\n",
              "      <td>...</td>\n",
              "      <td>...</td>\n",
              "      <td>...</td>\n",
              "      <td>...</td>\n",
              "      <td>...</td>\n",
              "      <td>...</td>\n",
              "      <td>...</td>\n",
              "      <td>...</td>\n",
              "      <td>...</td>\n",
              "      <td>...</td>\n",
              "      <td>...</td>\n",
              "      <td>...</td>\n",
              "    </tr>\n",
              "    <tr>\n",
              "      <th>1185</th>\n",
              "      <td>45</td>\n",
              "      <td>1</td>\n",
              "      <td>1</td>\n",
              "      <td>110</td>\n",
              "      <td>264</td>\n",
              "      <td>0</td>\n",
              "      <td>0</td>\n",
              "      <td>132</td>\n",
              "      <td>0</td>\n",
              "      <td>1.2</td>\n",
              "      <td>2</td>\n",
              "      <td>1</td>\n",
              "    </tr>\n",
              "    <tr>\n",
              "      <th>1186</th>\n",
              "      <td>68</td>\n",
              "      <td>1</td>\n",
              "      <td>4</td>\n",
              "      <td>144</td>\n",
              "      <td>193</td>\n",
              "      <td>1</td>\n",
              "      <td>0</td>\n",
              "      <td>141</td>\n",
              "      <td>0</td>\n",
              "      <td>3.4</td>\n",
              "      <td>2</td>\n",
              "      <td>1</td>\n",
              "    </tr>\n",
              "    <tr>\n",
              "      <th>1187</th>\n",
              "      <td>57</td>\n",
              "      <td>1</td>\n",
              "      <td>4</td>\n",
              "      <td>130</td>\n",
              "      <td>131</td>\n",
              "      <td>0</td>\n",
              "      <td>0</td>\n",
              "      <td>115</td>\n",
              "      <td>1</td>\n",
              "      <td>1.2</td>\n",
              "      <td>2</td>\n",
              "      <td>1</td>\n",
              "    </tr>\n",
              "    <tr>\n",
              "      <th>1188</th>\n",
              "      <td>57</td>\n",
              "      <td>0</td>\n",
              "      <td>2</td>\n",
              "      <td>130</td>\n",
              "      <td>236</td>\n",
              "      <td>0</td>\n",
              "      <td>2</td>\n",
              "      <td>174</td>\n",
              "      <td>0</td>\n",
              "      <td>0.0</td>\n",
              "      <td>2</td>\n",
              "      <td>1</td>\n",
              "    </tr>\n",
              "    <tr>\n",
              "      <th>1189</th>\n",
              "      <td>38</td>\n",
              "      <td>1</td>\n",
              "      <td>3</td>\n",
              "      <td>138</td>\n",
              "      <td>175</td>\n",
              "      <td>0</td>\n",
              "      <td>0</td>\n",
              "      <td>173</td>\n",
              "      <td>0</td>\n",
              "      <td>0.0</td>\n",
              "      <td>1</td>\n",
              "      <td>0</td>\n",
              "    </tr>\n",
              "  </tbody>\n",
              "</table>\n",
              "<p>1190 rows × 12 columns</p>\n",
              "</div>\n",
              "    <div class=\"colab-df-buttons\">\n",
              "\n",
              "  <div class=\"colab-df-container\">\n",
              "    <button class=\"colab-df-convert\" onclick=\"convertToInteractive('df-e80864c5-f454-4a3d-9f7d-68957d796552')\"\n",
              "            title=\"Convert this dataframe to an interactive table.\"\n",
              "            style=\"display:none;\">\n",
              "\n",
              "  <svg xmlns=\"http://www.w3.org/2000/svg\" height=\"24px\" viewBox=\"0 -960 960 960\">\n",
              "    <path d=\"M120-120v-720h720v720H120Zm60-500h600v-160H180v160Zm220 220h160v-160H400v160Zm0 220h160v-160H400v160ZM180-400h160v-160H180v160Zm440 0h160v-160H620v160ZM180-180h160v-160H180v160Zm440 0h160v-160H620v160Z\"/>\n",
              "  </svg>\n",
              "    </button>\n",
              "\n",
              "  <style>\n",
              "    .colab-df-container {\n",
              "      display:flex;\n",
              "      gap: 12px;\n",
              "    }\n",
              "\n",
              "    .colab-df-convert {\n",
              "      background-color: #E8F0FE;\n",
              "      border: none;\n",
              "      border-radius: 50%;\n",
              "      cursor: pointer;\n",
              "      display: none;\n",
              "      fill: #1967D2;\n",
              "      height: 32px;\n",
              "      padding: 0 0 0 0;\n",
              "      width: 32px;\n",
              "    }\n",
              "\n",
              "    .colab-df-convert:hover {\n",
              "      background-color: #E2EBFA;\n",
              "      box-shadow: 0px 1px 2px rgba(60, 64, 67, 0.3), 0px 1px 3px 1px rgba(60, 64, 67, 0.15);\n",
              "      fill: #174EA6;\n",
              "    }\n",
              "\n",
              "    .colab-df-buttons div {\n",
              "      margin-bottom: 4px;\n",
              "    }\n",
              "\n",
              "    [theme=dark] .colab-df-convert {\n",
              "      background-color: #3B4455;\n",
              "      fill: #D2E3FC;\n",
              "    }\n",
              "\n",
              "    [theme=dark] .colab-df-convert:hover {\n",
              "      background-color: #434B5C;\n",
              "      box-shadow: 0px 1px 3px 1px rgba(0, 0, 0, 0.15);\n",
              "      filter: drop-shadow(0px 1px 2px rgba(0, 0, 0, 0.3));\n",
              "      fill: #FFFFFF;\n",
              "    }\n",
              "  </style>\n",
              "\n",
              "    <script>\n",
              "      const buttonEl =\n",
              "        document.querySelector('#df-e80864c5-f454-4a3d-9f7d-68957d796552 button.colab-df-convert');\n",
              "      buttonEl.style.display =\n",
              "        google.colab.kernel.accessAllowed ? 'block' : 'none';\n",
              "\n",
              "      async function convertToInteractive(key) {\n",
              "        const element = document.querySelector('#df-e80864c5-f454-4a3d-9f7d-68957d796552');\n",
              "        const dataTable =\n",
              "          await google.colab.kernel.invokeFunction('convertToInteractive',\n",
              "                                                    [key], {});\n",
              "        if (!dataTable) return;\n",
              "\n",
              "        const docLinkHtml = 'Like what you see? Visit the ' +\n",
              "          '<a target=\"_blank\" href=https://colab.research.google.com/notebooks/data_table.ipynb>data table notebook</a>'\n",
              "          + ' to learn more about interactive tables.';\n",
              "        element.innerHTML = '';\n",
              "        dataTable['output_type'] = 'display_data';\n",
              "        await google.colab.output.renderOutput(dataTable, element);\n",
              "        const docLink = document.createElement('div');\n",
              "        docLink.innerHTML = docLinkHtml;\n",
              "        element.appendChild(docLink);\n",
              "      }\n",
              "    </script>\n",
              "  </div>\n",
              "\n",
              "\n",
              "<div id=\"df-22dab98c-38f4-48c7-916a-9f16cc29adb8\">\n",
              "  <button class=\"colab-df-quickchart\" onclick=\"quickchart('df-22dab98c-38f4-48c7-916a-9f16cc29adb8')\"\n",
              "            title=\"Suggest charts\"\n",
              "            style=\"display:none;\">\n",
              "\n",
              "<svg xmlns=\"http://www.w3.org/2000/svg\" height=\"24px\"viewBox=\"0 0 24 24\"\n",
              "     width=\"24px\">\n",
              "    <g>\n",
              "        <path d=\"M19 3H5c-1.1 0-2 .9-2 2v14c0 1.1.9 2 2 2h14c1.1 0 2-.9 2-2V5c0-1.1-.9-2-2-2zM9 17H7v-7h2v7zm4 0h-2V7h2v10zm4 0h-2v-4h2v4z\"/>\n",
              "    </g>\n",
              "</svg>\n",
              "  </button>\n",
              "\n",
              "<style>\n",
              "  .colab-df-quickchart {\n",
              "      --bg-color: #E8F0FE;\n",
              "      --fill-color: #1967D2;\n",
              "      --hover-bg-color: #E2EBFA;\n",
              "      --hover-fill-color: #174EA6;\n",
              "      --disabled-fill-color: #AAA;\n",
              "      --disabled-bg-color: #DDD;\n",
              "  }\n",
              "\n",
              "  [theme=dark] .colab-df-quickchart {\n",
              "      --bg-color: #3B4455;\n",
              "      --fill-color: #D2E3FC;\n",
              "      --hover-bg-color: #434B5C;\n",
              "      --hover-fill-color: #FFFFFF;\n",
              "      --disabled-bg-color: #3B4455;\n",
              "      --disabled-fill-color: #666;\n",
              "  }\n",
              "\n",
              "  .colab-df-quickchart {\n",
              "    background-color: var(--bg-color);\n",
              "    border: none;\n",
              "    border-radius: 50%;\n",
              "    cursor: pointer;\n",
              "    display: none;\n",
              "    fill: var(--fill-color);\n",
              "    height: 32px;\n",
              "    padding: 0;\n",
              "    width: 32px;\n",
              "  }\n",
              "\n",
              "  .colab-df-quickchart:hover {\n",
              "    background-color: var(--hover-bg-color);\n",
              "    box-shadow: 0 1px 2px rgba(60, 64, 67, 0.3), 0 1px 3px 1px rgba(60, 64, 67, 0.15);\n",
              "    fill: var(--button-hover-fill-color);\n",
              "  }\n",
              "\n",
              "  .colab-df-quickchart-complete:disabled,\n",
              "  .colab-df-quickchart-complete:disabled:hover {\n",
              "    background-color: var(--disabled-bg-color);\n",
              "    fill: var(--disabled-fill-color);\n",
              "    box-shadow: none;\n",
              "  }\n",
              "\n",
              "  .colab-df-spinner {\n",
              "    border: 2px solid var(--fill-color);\n",
              "    border-color: transparent;\n",
              "    border-bottom-color: var(--fill-color);\n",
              "    animation:\n",
              "      spin 1s steps(1) infinite;\n",
              "  }\n",
              "\n",
              "  @keyframes spin {\n",
              "    0% {\n",
              "      border-color: transparent;\n",
              "      border-bottom-color: var(--fill-color);\n",
              "      border-left-color: var(--fill-color);\n",
              "    }\n",
              "    20% {\n",
              "      border-color: transparent;\n",
              "      border-left-color: var(--fill-color);\n",
              "      border-top-color: var(--fill-color);\n",
              "    }\n",
              "    30% {\n",
              "      border-color: transparent;\n",
              "      border-left-color: var(--fill-color);\n",
              "      border-top-color: var(--fill-color);\n",
              "      border-right-color: var(--fill-color);\n",
              "    }\n",
              "    40% {\n",
              "      border-color: transparent;\n",
              "      border-right-color: var(--fill-color);\n",
              "      border-top-color: var(--fill-color);\n",
              "    }\n",
              "    60% {\n",
              "      border-color: transparent;\n",
              "      border-right-color: var(--fill-color);\n",
              "    }\n",
              "    80% {\n",
              "      border-color: transparent;\n",
              "      border-right-color: var(--fill-color);\n",
              "      border-bottom-color: var(--fill-color);\n",
              "    }\n",
              "    90% {\n",
              "      border-color: transparent;\n",
              "      border-bottom-color: var(--fill-color);\n",
              "    }\n",
              "  }\n",
              "</style>\n",
              "\n",
              "  <script>\n",
              "    async function quickchart(key) {\n",
              "      const quickchartButtonEl =\n",
              "        document.querySelector('#' + key + ' button');\n",
              "      quickchartButtonEl.disabled = true;  // To prevent multiple clicks.\n",
              "      quickchartButtonEl.classList.add('colab-df-spinner');\n",
              "      try {\n",
              "        const charts = await google.colab.kernel.invokeFunction(\n",
              "            'suggestCharts', [key], {});\n",
              "      } catch (error) {\n",
              "        console.error('Error during call to suggestCharts:', error);\n",
              "      }\n",
              "      quickchartButtonEl.classList.remove('colab-df-spinner');\n",
              "      quickchartButtonEl.classList.add('colab-df-quickchart-complete');\n",
              "    }\n",
              "    (() => {\n",
              "      let quickchartButtonEl =\n",
              "        document.querySelector('#df-22dab98c-38f4-48c7-916a-9f16cc29adb8 button');\n",
              "      quickchartButtonEl.style.display =\n",
              "        google.colab.kernel.accessAllowed ? 'block' : 'none';\n",
              "    })();\n",
              "  </script>\n",
              "</div>\n",
              "    </div>\n",
              "  </div>\n"
            ],
            "application/vnd.google.colaboratory.intrinsic+json": {
              "type": "dataframe",
              "variable_name": "df",
              "summary": "{\n  \"name\": \"df\",\n  \"rows\": 1190,\n  \"fields\": [\n    {\n      \"column\": \"age\",\n      \"properties\": {\n        \"dtype\": \"number\",\n        \"std\": 9,\n        \"min\": 28,\n        \"max\": 77,\n        \"num_unique_values\": 50,\n        \"samples\": [\n          44,\n          68,\n          66\n        ],\n        \"semantic_type\": \"\",\n        \"description\": \"\"\n      }\n    },\n    {\n      \"column\": \"sex\",\n      \"properties\": {\n        \"dtype\": \"number\",\n        \"std\": 0,\n        \"min\": 0,\n        \"max\": 1,\n        \"num_unique_values\": 2,\n        \"samples\": [\n          0,\n          1\n        ],\n        \"semantic_type\": \"\",\n        \"description\": \"\"\n      }\n    },\n    {\n      \"column\": \"chest pain type\",\n      \"properties\": {\n        \"dtype\": \"number\",\n        \"std\": 0,\n        \"min\": 1,\n        \"max\": 4,\n        \"num_unique_values\": 4,\n        \"samples\": [\n          3,\n          1\n        ],\n        \"semantic_type\": \"\",\n        \"description\": \"\"\n      }\n    },\n    {\n      \"column\": \"resting bp s\",\n      \"properties\": {\n        \"dtype\": \"number\",\n        \"std\": 18,\n        \"min\": 0,\n        \"max\": 200,\n        \"num_unique_values\": 67,\n        \"samples\": [\n          165,\n          118\n        ],\n        \"semantic_type\": \"\",\n        \"description\": \"\"\n      }\n    },\n    {\n      \"column\": \"cholesterol\",\n      \"properties\": {\n        \"dtype\": \"number\",\n        \"std\": 101,\n        \"min\": 0,\n        \"max\": 603,\n        \"num_unique_values\": 222,\n        \"samples\": [\n          305,\n          321\n        ],\n        \"semantic_type\": \"\",\n        \"description\": \"\"\n      }\n    },\n    {\n      \"column\": \"fasting blood sugar\",\n      \"properties\": {\n        \"dtype\": \"number\",\n        \"std\": 0,\n        \"min\": 0,\n        \"max\": 1,\n        \"num_unique_values\": 2,\n        \"samples\": [\n          1,\n          0\n        ],\n        \"semantic_type\": \"\",\n        \"description\": \"\"\n      }\n    },\n    {\n      \"column\": \"resting ecg\",\n      \"properties\": {\n        \"dtype\": \"number\",\n        \"std\": 0,\n        \"min\": 0,\n        \"max\": 2,\n        \"num_unique_values\": 3,\n        \"samples\": [\n          0,\n          1\n        ],\n        \"semantic_type\": \"\",\n        \"description\": \"\"\n      }\n    },\n    {\n      \"column\": \"max heart rate\",\n      \"properties\": {\n        \"dtype\": \"number\",\n        \"std\": 25,\n        \"min\": 60,\n        \"max\": 202,\n        \"num_unique_values\": 119,\n        \"samples\": [\n          132,\n          157\n        ],\n        \"semantic_type\": \"\",\n        \"description\": \"\"\n      }\n    },\n    {\n      \"column\": \"exercise angina\",\n      \"properties\": {\n        \"dtype\": \"number\",\n        \"std\": 0,\n        \"min\": 0,\n        \"max\": 1,\n        \"num_unique_values\": 2,\n        \"samples\": [\n          1,\n          0\n        ],\n        \"semantic_type\": \"\",\n        \"description\": \"\"\n      }\n    },\n    {\n      \"column\": \"oldpeak\",\n      \"properties\": {\n        \"dtype\": \"number\",\n        \"std\": 1.0863372185219862,\n        \"min\": -2.6,\n        \"max\": 6.2,\n        \"num_unique_values\": 53,\n        \"samples\": [\n          1.3,\n          0.6\n        ],\n        \"semantic_type\": \"\",\n        \"description\": \"\"\n      }\n    },\n    {\n      \"column\": \"ST slope\",\n      \"properties\": {\n        \"dtype\": \"number\",\n        \"std\": 0,\n        \"min\": 0,\n        \"max\": 3,\n        \"num_unique_values\": 4,\n        \"samples\": [\n          2,\n          0\n        ],\n        \"semantic_type\": \"\",\n        \"description\": \"\"\n      }\n    },\n    {\n      \"column\": \"target\",\n      \"properties\": {\n        \"dtype\": \"number\",\n        \"std\": 0,\n        \"min\": 0,\n        \"max\": 1,\n        \"num_unique_values\": 2,\n        \"samples\": [\n          1,\n          0\n        ],\n        \"semantic_type\": \"\",\n        \"description\": \"\"\n      }\n    }\n  ]\n}"
            }
          },
          "metadata": {},
          "execution_count": 3
        }
      ],
      "source": [
        "df = pd.read_csv(\"HeartDisease.csv\")\n",
        "\n",
        "df"
      ]
    },
    {
      "cell_type": "code",
      "source": [
        "df.dtypes"
      ],
      "metadata": {
        "colab": {
          "base_uri": "https://localhost:8080/"
        },
        "id": "B8YT9RJsq_be",
        "outputId": "d1e9fb25-e36f-4f1c-b179-b0c53665c1bb"
      },
      "execution_count": null,
      "outputs": [
        {
          "output_type": "execute_result",
          "data": {
            "text/plain": [
              "age                      int64\n",
              "sex                      int64\n",
              "chest pain type          int64\n",
              "resting bp s             int64\n",
              "cholesterol              int64\n",
              "fasting blood sugar      int64\n",
              "resting ecg              int64\n",
              "max heart rate           int64\n",
              "exercise angina          int64\n",
              "oldpeak                float64\n",
              "ST slope                 int64\n",
              "target                   int64\n",
              "dtype: object"
            ]
          },
          "metadata": {},
          "execution_count": 4
        }
      ]
    },
    {
      "cell_type": "markdown",
      "source": [
        "# **2.) Explain your datasets and the problem being addressed.**\n"
      ],
      "metadata": {
        "id": "1yjWsCkFYpFe"
      }
    },
    {
      "cell_type": "markdown",
      "source": [
        "The dataset that I have chosen for this is the HeartDisease dataset. I chose this in order to evaluate its validity as the publisher claims it to be the largest heart disease dataset which is combined from 5 other similar datasets. If this dataset's accuracy is high, I will use it for the exercises in this assignment which is loading, saving, and etc for models."
      ],
      "metadata": {
        "id": "ZFonJgl7YtZ2"
      }
    },
    {
      "cell_type": "markdown",
      "source": [
        "# **3.) Show evidence that you can do the following:**\n"
      ],
      "metadata": {
        "id": "3RhwZNQ7ZiR0"
      }
    },
    {
      "cell_type": "markdown",
      "source": [
        "\n",
        "\n",
        "---\n",
        "\n"
      ],
      "metadata": {
        "id": "He74-WgNaRFZ"
      }
    },
    {
      "cell_type": "markdown",
      "source": [
        "3.1) Save a model in HDF5 format\n"
      ],
      "metadata": {
        "id": "-BsZ0v-Au68u"
      }
    },
    {
      "cell_type": "code",
      "source": [
        "pip install h5py"
      ],
      "metadata": {
        "colab": {
          "base_uri": "https://localhost:8080/"
        },
        "id": "HoA_upMSrSgj",
        "outputId": "d89a50b8-a5e5-44c3-970e-b3d5b4d06328"
      },
      "execution_count": null,
      "outputs": [
        {
          "output_type": "stream",
          "name": "stdout",
          "text": [
            "Requirement already satisfied: h5py in /usr/local/lib/python3.10/dist-packages (3.9.0)\n",
            "Requirement already satisfied: numpy>=1.17.3 in /usr/local/lib/python3.10/dist-packages (from h5py) (1.25.2)\n"
          ]
        }
      ]
    },
    {
      "cell_type": "code",
      "source": [
        "# MLP for Pima Indians Dataset Serialize to JSON and HDF5\n",
        "from tensorflow.keras.models import Sequential, model_from_json\n",
        "from tensorflow.keras.layers import Dense\n",
        "import numpy\n",
        "import os\n",
        "\n",
        "# fix random seed for reproducibility\n",
        "seed = 7\n",
        "numpy.random.seed(seed)\n",
        "\n",
        "# Load the CSV file while skipping the first row\n",
        "dataset = np.loadtxt(\"HeartDisease.csv\", delimiter=\",\", skiprows=1)\n",
        "\n",
        "# split into input (X) and output (Y) variables\n",
        "X = dataset[:, 0:11]\n",
        "Y = dataset[:, 11]\n"
      ],
      "metadata": {
        "id": "e_8Zh3marY2e"
      },
      "execution_count": null,
      "outputs": []
    },
    {
      "cell_type": "code",
      "source": [
        "# create model\n",
        "model = Sequential()\n",
        "model.add(Dense(12, input_dim=11, activation='relu'))\n",
        "model.add(Dense(8, activation='relu'))\n",
        "model.add(Dense(1, activation='sigmoid'))\n",
        "\n",
        "# Compile model\n",
        "model.compile(loss='binary_crossentropy', optimizer='adam', metrics=['accuracy'])\n",
        "# Fit the model\n",
        "model.fit(X, Y, epochs=150, batch_size=10, verbose=0)\n",
        "# evaluate the model\n",
        "scores = model.evaluate(X, Y, verbose=0)\n",
        "print(\"%s: %.2f%%\" % (model.metrics_names[1], scores[1]*100))\n"
      ],
      "metadata": {
        "id": "CCzMXaGrUkKB"
      },
      "execution_count": null,
      "outputs": []
    },
    {
      "cell_type": "markdown",
      "source": [
        "\n",
        "\n",
        "---\n",
        "\n"
      ],
      "metadata": {
        "id": "zyy7bUqVaLBc"
      }
    },
    {
      "cell_type": "markdown",
      "source": [
        "3.2) Save a model and load the model in a JSON format"
      ],
      "metadata": {
        "id": "ptQrGH5oZ_yl"
      }
    },
    {
      "cell_type": "code",
      "source": [
        "# serialize model to JSON\n",
        "model_json = model.to_json()\n",
        "with open(\"model.json\", \"w\") as json_file:\n",
        "    json_file.write(model_json)\n",
        "# serialize weights to HDF5\n",
        "model.save_weights(\"/content/model.h5\")\n",
        "print(\"Saved model to disk\")"
      ],
      "metadata": {
        "id": "1vfoa4NSt7Ku"
      },
      "execution_count": null,
      "outputs": []
    },
    {
      "cell_type": "code",
      "source": [
        "# load json and create model\n",
        "json_file = open('model.json', 'r')\n",
        "loaded_model_json = json_file.read()\n",
        "json_file.close()\n",
        "loaded_model = model_from_json(loaded_model_json)\n",
        "# load weights into new model\n",
        "loaded_model.load_weights(\"/content/model.h5\")\n",
        "print(\"Loaded model from disk\")"
      ],
      "metadata": {
        "id": "fno__s8et8Ox"
      },
      "execution_count": null,
      "outputs": []
    },
    {
      "cell_type": "code",
      "source": [
        "# evaluate loaded model on test data\n",
        "loaded_model.compile(loss='binary_crossentropy', optimizer='rmsprop', metrics=['accuracy'])\n",
        "score = loaded_model.evaluate(X, Y, verbose=0)\n",
        "print(\"%s: %.2f%%\" % (loaded_model.metrics_names[1], score[1]*100))"
      ],
      "metadata": {
        "id": "iHi9cdhFt__1"
      },
      "execution_count": null,
      "outputs": []
    },
    {
      "cell_type": "markdown",
      "source": [
        "\n",
        "\n",
        "---\n",
        "\n"
      ],
      "metadata": {
        "id": "nPInm9XGaOh6"
      }
    },
    {
      "cell_type": "markdown",
      "source": [
        "\n",
        "3.3) Save a model and load the model in a YAML format"
      ],
      "metadata": {
        "id": "VL5gOIJnvIML"
      }
    },
    {
      "cell_type": "code",
      "source": [
        "from tensorflow.keras.models import Sequential, model_from_yaml\n",
        "from tensorflow.keras.layers import Dense\n",
        "import numpy\n",
        "import os\n",
        "# fix random seed for reproducibility\n",
        "seed = 7\n",
        "numpy.random.seed(seed)\n",
        "\n",
        "# Load the CSV file while skipping the first row\n",
        "dataset = np.loadtxt(\"HeartDisease.csv\", delimiter=\",\", skiprows=1)\n",
        "\n",
        "# split into input (X) and output (Y) variables\n",
        "X = dataset[:, 0:11]\n",
        "Y = dataset[:, 11]"
      ],
      "metadata": {
        "id": "ZGMWOyAwUQP6"
      },
      "execution_count": null,
      "outputs": []
    },
    {
      "cell_type": "code",
      "source": [
        "# create model\n",
        "model = Sequential()\n",
        "model.add(Dense(12, input_dim=11, activation='relu'))\n",
        "model.add(Dense(8, activation='relu'))\n",
        "model.add(Dense(1, activation='sigmoid'))\n",
        "# Compile model\n",
        "model.compile(loss='binary_crossentropy', optimizer='adam', metrics=['accuracy'])\n",
        "# Fit the model\n",
        "model.fit(X, Y, epochs=150, batch_size=10, verbose=0)\n",
        "# evaluate the model\n",
        "scores = model.evaluate(X, Y, verbose=0)\n",
        "print(\"%s: %.2f%%\" % (model.metrics_names[1], scores[1]*100))\n"
      ],
      "metadata": {
        "id": "Q-_6KFXUU43s"
      },
      "execution_count": null,
      "outputs": []
    },
    {
      "cell_type": "code",
      "source": [
        "\n",
        "# serialize model to YAML\n",
        "model_yaml = model.to_json()\n",
        "with open(\"model.yaml\", \"w\") as yaml_file:\n",
        "    yaml_file.write(model_yaml)\n",
        "# serialize weights to HDF5\n",
        "model.save_weights(\"model_yaml.h5\")\n",
        "print(\"Saved model to disk\")\n",
        "\n"
      ],
      "metadata": {
        "id": "kyI_r4GlU7Ky"
      },
      "execution_count": null,
      "outputs": []
    },
    {
      "cell_type": "code",
      "source": [
        "# later...\n",
        "\n",
        "# load YAML and create model\n",
        "yaml_file = open('model.yaml', 'r')\n",
        "loaded_model_yaml = yaml_file.read()\n",
        "yaml_file.close()\n",
        "loaded_model = model_from_json(loaded_model_yaml)\n",
        "# load weights into new model\n",
        "loaded_model.load_weights(\"model_yaml.h5\")\n",
        "print(\"Loaded model from disk\")"
      ],
      "metadata": {
        "id": "gj2fxZvkU9R_"
      },
      "execution_count": null,
      "outputs": []
    },
    {
      "cell_type": "code",
      "source": [
        "\n",
        "\n",
        "# evaluate loaded model on test data\n",
        "loaded_model.compile(loss='binary_crossentropy', optimizer='rmsprop', metrics=['accuracy'])\n",
        "score = loaded_model.evaluate(X, Y, verbose=0)\n",
        "print(\"%s: %.2f%%\" % (loaded_model.metrics_names[1], score[1]*100))"
      ],
      "metadata": {
        "id": "YoxzvwgNU-Xz"
      },
      "execution_count": null,
      "outputs": []
    },
    {
      "cell_type": "markdown",
      "source": [
        "\n",
        "\n",
        "---\n",
        "\n"
      ],
      "metadata": {
        "id": "rnCBRCoQbEjc"
      }
    },
    {
      "cell_type": "markdown",
      "source": [
        "3.4) Checkpoint Neural Network Model Improvements\n"
      ],
      "metadata": {
        "id": "HjC49BYbx81m"
      }
    },
    {
      "cell_type": "code",
      "source": [
        "# Checkpoint the weights when validation accuracy improves\n",
        "from keras.models import Sequential\n",
        "from keras.layers import Dense\n",
        "from keras.callbacks import ModelCheckpoint\n",
        "import matplotlib.pyplot as plt\n",
        "import numpy as np\n",
        "import tensorflow as tf\n",
        "\n",
        "seed = 42\n",
        "tf.random.set_seed(seed)\n",
        "\n",
        "# Load the CSV file while skipping the first row\n",
        "dataset = np.loadtxt(\"HeartDisease.csv\", delimiter=\",\", skiprows=1)\n",
        "\n",
        "# split into input (X) and output (Y) variables\n",
        "X = dataset[:, 0:11]\n",
        "Y = dataset[:, 11]\n",
        "\n",
        "# create model\n",
        "model = Sequential()\n",
        "model.add(Dense(12, input_shape=(11,), activation='relu'))\n",
        "model.add(Dense(8, activation='relu'))\n",
        "model.add(Dense(1, activation='sigmoid'))\n",
        "# Compile model\n",
        "model.compile(loss='binary_crossentropy', optimizer='adam', metrics=['accuracy'])\n",
        "\n",
        "# checkpoint\n",
        "filepath=\"weights-improvement-{epoch:02d}-{val_accuracy:.2f}.hdf5\"\n",
        "checkpoint = ModelCheckpoint(filepath, monitor='val_accuracy', verbose=1, save_best_only=True, mode='max')\n",
        "callbacks_list = [checkpoint]\n",
        "\n",
        "# Fit the model\n",
        "model.fit(X, Y, validation_split=0.33, epochs=150, batch_size=10, callbacks=callbacks_list, verbose=0)"
      ],
      "metadata": {
        "id": "oDdvfQ1MvXAo"
      },
      "execution_count": null,
      "outputs": []
    },
    {
      "cell_type": "markdown",
      "source": [
        "\n",
        "\n",
        "---\n",
        "\n"
      ],
      "metadata": {
        "id": "Dp72QkpvbBy9"
      }
    },
    {
      "cell_type": "markdown",
      "source": [
        "3.5) Checkpoint Best Neural Network Model only"
      ],
      "metadata": {
        "id": "JuzVm9UcWZgd"
      }
    },
    {
      "cell_type": "code",
      "source": [
        "# Checkpoint the weights for best model on validation accuracy\n",
        "from keras.models import Sequential\n",
        "from keras.layers import Dense\n",
        "from keras.callbacks import ModelCheckpoint\n",
        "import matplotlib.pyplot as plt\n",
        "import numpy as np\n",
        "\n",
        "# Load the CSV file while skipping the first row\n",
        "dataset = np.loadtxt(\"HeartDisease.csv\", delimiter=\",\", skiprows=1)\n",
        "\n",
        "# split into input (X) and output (Y) variables\n",
        "X = dataset[:, 0:11]\n",
        "Y = dataset[:, 11]\n",
        "\n",
        "# create model\n",
        "model = Sequential()\n",
        "model.add(Dense(12, input_shape=(11,), activation='relu'))\n",
        "model.add(Dense(8, activation='relu'))\n",
        "model.add(Dense(1, activation='sigmoid'))\n",
        "# Compile model\n",
        "model.compile(loss='binary_crossentropy', optimizer='adam', metrics=['accuracy'])\n",
        "# checkpoint\n",
        "filepath=\"weights.best.hdf5\"\n",
        "checkpoint = ModelCheckpoint(filepath, monitor='val_accuracy', verbose=1, save_best_only=True, mode='max')\n",
        "callbacks_list = [checkpoint]\n",
        "# Fit the model\n",
        "model.fit(X, Y, validation_split=0.33, epochs=150, batch_size=10, callbacks=callbacks_list, verbose=0)"
      ],
      "metadata": {
        "id": "izP_595xWYp0"
      },
      "execution_count": null,
      "outputs": []
    },
    {
      "cell_type": "markdown",
      "source": [
        "![image.png](data:image/png;base64,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)"
      ],
      "metadata": {
        "id": "_HvoxVP6XNRm"
      }
    },
    {
      "cell_type": "markdown",
      "source": [
        "- Best"
      ],
      "metadata": {
        "id": "zBEHY4ktXPp7"
      }
    },
    {
      "cell_type": "markdown",
      "source": [
        "\n",
        "\n",
        "---\n",
        "\n"
      ],
      "metadata": {
        "id": "AOIDzuxya_e4"
      }
    },
    {
      "cell_type": "markdown",
      "source": [
        "3.6) Load a saved Neural Network model\n"
      ],
      "metadata": {
        "id": "15vfr176a95u"
      }
    },
    {
      "cell_type": "code",
      "source": [
        "# How to load and use weights from a checkpoint\n",
        "from keras.models import Sequential\n",
        "from keras.layers import Dense\n",
        "from keras.callbacks import ModelCheckpoint\n",
        "import matplotlib.pyplot as plt\n",
        "import numpy\n",
        "\n",
        "# fix random seed for reproducibility\n",
        "seed = 7\n",
        "numpy.random.seed(seed)\n",
        "\n",
        "# create model\n",
        "model = Sequential()\n",
        "model.add(Dense(12, input_dim=11, kernel_initializer = 'uniform' , activation= 'relu' ))\n",
        "model.add(Dense(8, kernel_initializer= 'uniform' , activation= 'relu' ))\n",
        "model.add(Dense(1, kernel_initializer= 'uniform' , activation= 'sigmoid' ))\n",
        "\n",
        "# load weights\n",
        "model.load_weights(\"weights.best.hdf5\")\n",
        "\n",
        "# Compile model (required to make predictions)\n",
        "model.compile(loss= 'binary_crossentropy' , optimizer= 'adam' , metrics=[ 'accuracy' ])\n",
        "print(\"Created model and loaded weights from file\")\n",
        "\n",
        "# Load the CSV file while skipping the first row\n",
        "dataset = np.loadtxt(\"HeartDisease.csv\", delimiter=\",\", skiprows=1)\n",
        "\n",
        "# split into input (X) and output (Y) variables\n",
        "X = dataset[:, 0:11]\n",
        "Y = dataset[:, 11]\n",
        "\n",
        "# estimate accuracy on whole dataset using loaded weights\n",
        "scores = model.evaluate(X, Y, verbose=0)\n",
        "print(\"%s: %.2f%%\" % (model.metrics_names[1], scores[1]*100))"
      ],
      "metadata": {
        "id": "b3m8gYjBbSBn"
      },
      "execution_count": null,
      "outputs": []
    },
    {
      "cell_type": "markdown",
      "source": [
        "\n",
        "\n",
        "---\n",
        "\n"
      ],
      "metadata": {
        "id": "ytiaKWjdb04I"
      }
    },
    {
      "cell_type": "markdown",
      "source": [
        "3.7) Visualize Model Training History in Keras\n"
      ],
      "metadata": {
        "id": "DFN7rmjGbyHo"
      }
    },
    {
      "cell_type": "code",
      "source": [
        "# MLP for Pima Indians Dataset saved to single file\n",
        "from numpy import loadtxt\n",
        "from tensorflow.keras.models import Sequential\n",
        "from tensorflow.keras.layers import Dense\n",
        "\n",
        "# Load the CSV file while skipping the first row\n",
        "dataset = np.loadtxt(\"HeartDisease.csv\", delimiter=\",\", skiprows=1)\n",
        "\n",
        "# split into input (X) and output (Y) variables\n",
        "X = dataset[:, 0:11]\n",
        "Y = dataset[:, 11]\n",
        "\n",
        "# define model\n",
        "model = Sequential()\n",
        "model.add(Dense(12, input_dim=11, activation='relu'))\n",
        "model.add(Dense(8, activation='relu'))\n",
        "model.add(Dense(1, activation='sigmoid'))\n",
        "\n",
        "# compile model\n",
        "model.compile(loss='binary_crossentropy', optimizer='adam', metrics=['accuracy'])\n",
        "\n",
        "# Fit the model\n",
        "model.fit(X, Y, epochs=150, batch_size=10, verbose=0)\n",
        "\n",
        "# evaluate the model\n",
        "scores = model.evaluate(X, Y, verbose=0)\n",
        "print(\"%s: %.2f%%\" % (model.metrics_names[1], scores[1]*100))\n",
        "\n",
        "# save model and architecture to single file\n",
        "model.save(\"model.h5\")\n",
        "print(\"Saved model to disk\")"
      ],
      "metadata": {
        "id": "jI5_R_rnb-mu"
      },
      "execution_count": null,
      "outputs": []
    },
    {
      "cell_type": "code",
      "source": [
        "# Visualize training history\n",
        "from keras.models import Sequential\n",
        "from keras.layers import Dense\n",
        "import matplotlib.pyplot as plt\n",
        "import numpy as np\n",
        "\n",
        "# Load the CSV file while skipping the first row\n",
        "dataset = np.loadtxt(\"HeartDisease.csv\", delimiter=\",\", skiprows=1)\n",
        "\n",
        "# split into input (X) and output (Y) variables\n",
        "X = dataset[:, 0:11]\n",
        "Y = dataset[:, 11]\n",
        "\n",
        "# create model\n",
        "model = Sequential()\n",
        "model.add(Dense(12, input_dim=11, activation='relu'))\n",
        "model.add(Dense(8, activation='relu'))\n",
        "model.add(Dense(1, activation='sigmoid'))\n",
        "\n",
        "# Compile model\n",
        "model.compile(loss='binary_crossentropy', optimizer='adam', metrics=['accuracy'])\n",
        "\n",
        "# Fit the model\n",
        "history = model.fit(X, Y, validation_split=0.33, epochs=150, batch_size=10, verbose=0)\n",
        "\n",
        "\n",
        "# list all data in history\n",
        "print(history.history.keys())\n",
        "\n",
        "# summarize history for accuracy\n",
        "plt.plot(history.history['accuracy'])\n",
        "plt.plot(history.history['val_accuracy'])\n",
        "plt.title('model accuracy')\n",
        "plt.ylabel('accuracy')\n",
        "plt.xlabel('epoch')\n",
        "plt.legend(['train', 'test'], loc='upper left')\n",
        "plt.show()\n",
        "\n",
        "# summarize history for loss\n",
        "plt.plot(history.history['loss'])\n",
        "plt.plot(history.history['val_loss'])\n",
        "plt.title('model loss')\n",
        "plt.ylabel('loss')\n",
        "plt.xlabel('epoch')\n",
        "plt.legend(['train', 'test'], loc='upper left')\n",
        "plt.show()"
      ],
      "metadata": {
        "id": "dBEJwJ1LciAu"
      },
      "execution_count": null,
      "outputs": []
    },
    {
      "cell_type": "markdown",
      "source": [
        "\n",
        "\n",
        "---\n",
        "\n"
      ],
      "metadata": {
        "id": "Y68Ad6bQdqX1"
      }
    },
    {
      "cell_type": "markdown",
      "source": [
        "3.8) Show the application of Dropout Regularization\n",
        "\n",
        "\n",
        "```\n",
        "# This is formatted as code\n",
        "```\n",
        "\n"
      ],
      "metadata": {
        "id": "DlM4_nOOdrir"
      }
    },
    {
      "cell_type": "code",
      "source": [
        "!pip install scikeras"
      ],
      "metadata": {
        "id": "_OAEyFvRdz_k"
      },
      "execution_count": null,
      "outputs": []
    },
    {
      "cell_type": "code",
      "source": [
        "dataset = np.loadtxt(\"HeartDisease.csv\", delimiter=\",\", skiprows=1)\n",
        "\n",
        "# split into input (X) and output (Y) variables\n",
        "X = dataset[:, 0:11]\n",
        "Y = dataset[:, 11]"
      ],
      "metadata": {
        "id": "-X0wSTVNpEtX"
      },
      "execution_count": null,
      "outputs": []
    },
    {
      "cell_type": "code",
      "source": [
        "from pandas import read_csv\n",
        "from tensorflow.keras.models import Sequential\n",
        "from tensorflow.keras.layers import Dense\n",
        "from tensorflow.keras.optimizers import SGD\n",
        "from scikeras.wrappers import KerasClassifier\n",
        "from sklearn.model_selection import cross_val_score\n",
        "from sklearn.preprocessing import LabelEncoder\n",
        "from sklearn.model_selection import StratifiedKFold\n",
        "from sklearn.preprocessing import StandardScaler\n",
        "from sklearn.pipeline import Pipeline\n",
        "\n",
        "# load dataset\n",
        "dataframe = read_csv(\"HeartDisease.csv\", header=None, delimiter=\",\", skiprows=1)\n",
        "dataset = dataframe.values\n",
        "\n",
        "# split into input (X) and output (Y) variables\n",
        "X = dataset[:,0:11].astype(float)\n",
        "Y = dataset[:,11]\n",
        "# encode class values as integers\n",
        "encoder = LabelEncoder()\n",
        "encoder.fit(Y)\n",
        "encoded_Y = encoder.transform(Y)\n",
        "\n"
      ],
      "metadata": {
        "id": "GenP8tsHePH8"
      },
      "execution_count": null,
      "outputs": []
    },
    {
      "cell_type": "code",
      "source": [
        "# baseline\n",
        "def create_baseline():\n",
        "\t# create model\n",
        "\tmodel = Sequential()\n",
        "\tmodel.add(Dense(60, input_shape=(11,), activation='relu'))\n",
        "\tmodel.add(Dense(30,  activation='relu'))\n",
        "\tmodel.add(Dense(1, activation='sigmoid'))\n",
        "\n",
        "\t# Compile model\n",
        "\tsgd = SGD(learning_rate=0.01, momentum=0.8)\n",
        "\tmodel.compile(loss='binary_crossentropy', optimizer=sgd, metrics=['accuracy'])\n",
        "\treturn model"
      ],
      "metadata": {
        "id": "scCYU07Mqohj"
      },
      "execution_count": null,
      "outputs": []
    },
    {
      "cell_type": "code",
      "source": [
        "\n",
        "estimators = []\n",
        "estimators.append(('standardize', StandardScaler()))\n",
        "estimators.append(('mlp', KerasClassifier(model=create_baseline, epochs=300, batch_size=16, verbose=0)))\n",
        "pipeline = Pipeline(estimators)\n",
        "kfold = StratifiedKFold(n_splits=10, shuffle=True)\n",
        "results = cross_val_score(pipeline, X, encoded_Y, cv=kfold)\n",
        "print(\"Baseline: %.2f%% (%.2f%%)\" % (results.mean()*100, results.std()*100))"
      ],
      "metadata": {
        "id": "hLnnbZl2qtkQ"
      },
      "execution_count": null,
      "outputs": []
    },
    {
      "cell_type": "markdown",
      "source": [
        "\n",
        "\n",
        "---\n",
        "\n"
      ],
      "metadata": {
        "id": "X7mQRE77wYNu"
      }
    },
    {
      "cell_type": "markdown",
      "source": [
        "3.9) Show the application of Dropout on the visible layer\n"
      ],
      "metadata": {
        "id": "lQsksaQlwZ9E"
      }
    },
    {
      "cell_type": "code",
      "source": [
        "from pandas import read_csv\n",
        "from tensorflow.keras.models import Sequential\n",
        "from tensorflow.keras.layers import Dense\n",
        "from tensorflow.keras.layers import Dropout\n",
        "from tensorflow.keras.constraints import MaxNorm\n",
        "from tensorflow.keras.optimizers import SGD\n",
        "from scikeras.wrappers import KerasClassifier\n",
        "from sklearn.model_selection import cross_val_score\n",
        "from sklearn.preprocessing import LabelEncoder\n",
        "from sklearn.model_selection import StratifiedKFold\n",
        "from sklearn.preprocessing import StandardScaler\n",
        "from sklearn.pipeline import Pipeline\n",
        "\n",
        "# load dataset\n",
        "dataframe = read_csv(\"HeartDisease.csv\", header=None, delimiter=\",\", skiprows=1)\n",
        "dataset = dataframe.values\n",
        "\n",
        "# split into input (X) and output (Y) variables\n",
        "X = dataset[:,0:11].astype(float)\n",
        "Y = dataset[:,11]\n",
        "# encode class values as integers\n",
        "encoder = LabelEncoder()\n",
        "encoder.fit(Y)\n",
        "encoded_Y = encoder.transform(Y)\n",
        "\n",
        "# dropout in the input layer with weight constraint\n",
        "def create_model():\n",
        "\t# create model\n",
        "\tmodel = Sequential()\n",
        "\tmodel.add(Dropout(0.2, input_shape=(11,)))\n",
        "\tmodel.add(Dense(60, activation='relu', kernel_constraint=MaxNorm(3)))\n",
        "\tmodel.add(Dense(30, activation='relu', kernel_constraint=MaxNorm(3)))\n",
        "\tmodel.add(Dense(1, activation='sigmoid'))\n",
        "\t# Compile model\n",
        "\tsgd = SGD(learning_rate=0.1, momentum=0.9)\n",
        "\tmodel.compile(loss='binary_crossentropy', optimizer=sgd, metrics=['accuracy'])\n",
        "\treturn model\n",
        "\n",
        "estimators = []\n",
        "estimators.append(('standardize', StandardScaler()))\n",
        "estimators.append(('mlp', KerasClassifier(model=create_model, epochs=300, batch_size=16, verbose=0)))\n",
        "pipeline = Pipeline(estimators)\n",
        "kfold = StratifiedKFold(n_splits=10, shuffle=True)\n",
        "results = cross_val_score(pipeline, X, encoded_Y, cv=kfold)\n",
        "print(\"Visible: %.2f%% (%.2f%%)\" % (results.mean()*100, results.std()*100))"
      ],
      "metadata": {
        "id": "SqTZ8VOlwZYk"
      },
      "execution_count": null,
      "outputs": []
    },
    {
      "cell_type": "markdown",
      "source": [
        "\n",
        "\n",
        "---\n",
        "\n"
      ],
      "metadata": {
        "id": "TDxueoUYxDJR"
      }
    },
    {
      "cell_type": "markdown",
      "source": [
        "3.10) Show the application of Dropout on the hidden layer\n"
      ],
      "metadata": {
        "id": "ohWn-xSMxEgv"
      }
    },
    {
      "cell_type": "code",
      "source": [
        "# Example of Dropout on the Sonar Dataset: Hidden Layer\n",
        "from pandas import read_csv\n",
        "from tensorflow.keras.models import Sequential\n",
        "from tensorflow.keras.layers import Dense\n",
        "from tensorflow.keras.layers import Dropout\n",
        "from tensorflow.keras.constraints import MaxNorm\n",
        "from tensorflow.keras.optimizers import SGD\n",
        "from scikeras.wrappers import KerasClassifier\n",
        "from sklearn.model_selection import cross_val_score\n",
        "from sklearn.preprocessing import LabelEncoder\n",
        "from sklearn.model_selection import StratifiedKFold\n",
        "from sklearn.preprocessing import StandardScaler\n",
        "from sklearn.pipeline import Pipeline\n",
        "\n",
        "# load dataset\n",
        "dataframe = read_csv(\"HeartDisease.csv\", header=None, delimiter=\",\", skiprows=1)\n",
        "dataset = dataframe.values\n",
        "\n",
        "# split into input (X) and output (Y) variables\n",
        "X = dataset[:,0:11].astype(float)\n",
        "Y = dataset[:,11]\n",
        "# encode class values as integers\n",
        "encoder = LabelEncoder()\n",
        "encoder.fit(Y)\n",
        "encoded_Y = encoder.transform(Y)\n",
        "\n",
        "# dropout in hidden layers with weight constraint\n",
        "def create_model():\n",
        "\t# create model\n",
        "\tmodel = Sequential()\n",
        "\tmodel.add(Dense(60, input_shape=(11,), activation='relu', kernel_constraint=MaxNorm(3)))\n",
        "\tmodel.add(Dropout(0.2))\n",
        "\tmodel.add(Dense(30, activation='relu', kernel_constraint=MaxNorm(3)))\n",
        "\tmodel.add(Dropout(0.2))\n",
        "\tmodel.add(Dense(1, activation='sigmoid'))\n",
        "\t# Compile model\n",
        "\tsgd = SGD(learning_rate=0.1, momentum=0.9)\n",
        "\tmodel.compile(loss='binary_crossentropy', optimizer=sgd, metrics=['accuracy'])\n",
        "\treturn model\n",
        "\n",
        "estimators = []\n",
        "estimators.append(('standardize', StandardScaler()))\n",
        "estimators.append(('mlp', KerasClassifier(model=create_model, epochs=300, batch_size=16, verbose=0)))\n",
        "pipeline = Pipeline(estimators)\n",
        "kfold = StratifiedKFold(n_splits=10, shuffle=True)\n",
        "results = cross_val_score(pipeline, X, encoded_Y, cv=kfold)\n",
        "print(\"Hidden: %.2f%% (%.2f%%)\" % (results.mean()*100, results.std()*100))"
      ],
      "metadata": {
        "id": "daBbC8mMxF4B"
      },
      "execution_count": null,
      "outputs": []
    },
    {
      "cell_type": "markdown",
      "source": [
        "\n",
        "\n",
        "---\n",
        "\n"
      ],
      "metadata": {
        "id": "-Zmz9JdsxVDb"
      }
    },
    {
      "cell_type": "markdown",
      "source": [
        "3.11) Show the application of a time-based learning rate schedule\n"
      ],
      "metadata": {
        "id": "PqDFYMEExWBp"
      }
    },
    {
      "cell_type": "code",
      "source": [
        "from pandas import read_csv\n",
        "from tensorflow.keras.models import Sequential\n",
        "from tensorflow.keras.layers import Dense, Input\n",
        "from tensorflow.keras.optimizers import SGD\n",
        "from sklearn.preprocessing import LabelEncoder\n",
        "\n",
        "# load dataset\n",
        "dataframe = read_csv(\"HeartDisease.csv\", header=None, delimiter=\",\", skiprows=1)\n",
        "dataset = dataframe.values\n",
        "\n",
        "# split into input (X) and output (Y) variables\n",
        "X = dataset[:, 0:11].astype(float)\n",
        "Y = dataset[:, 11]\n",
        "\n",
        "# encode class values as integers\n",
        "encoder = LabelEncoder()\n",
        "encoder.fit(Y)\n",
        "encoded_Y = encoder.transform(Y)\n",
        "\n",
        "# create model\n",
        "model = Sequential()\n",
        "model.add(Input(shape=(11,)))  # Use Input(shape=(11,))\n",
        "model.add(Dense(34, activation='relu'))\n",
        "model.add(Dense(1, activation='sigmoid'))\n",
        "\n",
        "# Compile model\n",
        "epochs = 50\n",
        "learning_rate = 0.1\n",
        "decay_rate = learning_rate / epochs\n",
        "momentum = 0.8\n",
        "sgd = SGD(learning_rate=learning_rate, momentum=momentum, decay=decay_rate, nesterov=False)\n",
        "model.compile(loss='binary_crossentropy', optimizer=sgd, metrics=['accuracy'])\n",
        "\n",
        "# Fit the model\n",
        "model.fit(X, encoded_Y, validation_split=0.33, epochs=epochs, batch_size=28, verbose=2)\n"
      ],
      "metadata": {
        "id": "I42m2rHg3xfM"
      },
      "execution_count": null,
      "outputs": []
    },
    {
      "cell_type": "markdown",
      "source": [
        "\n",
        "\n",
        "---\n",
        "\n"
      ],
      "metadata": {
        "id": "R9rgF8iRxa-v"
      }
    },
    {
      "cell_type": "markdown",
      "source": [
        "3.12) Show the application of a drop-based learning rate schedule\n"
      ],
      "metadata": {
        "id": "6M_sftIDxb8n"
      }
    },
    {
      "cell_type": "code",
      "source": [
        "# Drop-Based Learning Rate Decay\n",
        "from pandas import read_csv\n",
        "import math\n",
        "from tensorflow.keras.models import Sequential\n",
        "from tensorflow.keras.layers import Dense\n",
        "from tensorflow.keras.optimizers import SGD\n",
        "from sklearn.preprocessing import LabelEncoder\n",
        "from tensorflow.keras.callbacks import LearningRateScheduler\n",
        "\n",
        "# learning rate schedule\n",
        "def step_decay(epoch):\n",
        "\tinitial_lrate = 0.1\n",
        "\tdrop = 0.5\n",
        "\tepochs_drop = 10.0\n",
        "\tlrate = initial_lrate * math.pow(drop, math.floor((1+epoch)/epochs_drop))\n",
        "\treturn lrate\n",
        "\n",
        "# load dataset\n",
        "dataframe = read_csv(\"HeartDisease.csv\", header=None, delimiter=\",\", skiprows=1)\n",
        "dataset = dataframe.values\n",
        "\n",
        "# split into input (X) and output (Y) variables\n",
        "X = dataset[:,0:11].astype(float)\n",
        "Y = dataset[:,11]\n",
        "# encode class values as integers\n",
        "encoder = LabelEncoder()\n",
        "encoder.fit(Y)\n",
        "encoded_Y = encoder.transform(Y)\n",
        "\n",
        "# create model\n",
        "model = Sequential()\n",
        "model.add(Dense(34, input_shape=(11,), activation='relu'))\n",
        "model.add(Dense(1, activation='sigmoid'))\n",
        "# Compile model\n",
        "sgd = SGD(learning_rate=0.0, momentum=0.9)\n",
        "model.compile(loss='binary_crossentropy', optimizer=sgd, metrics=['accuracy'])\n",
        "# learning schedule callback\n",
        "lrate = LearningRateScheduler(step_decay)\n",
        "callbacks_list = [lrate]\n",
        "# Fit the model\n",
        "model.fit(X, Y, validation_split=0.33, epochs=50, batch_size=28, callbacks=callbacks_list, verbose=2)"
      ],
      "metadata": {
        "id": "scgeyBIaxgCX"
      },
      "execution_count": null,
      "outputs": []
    },
    {
      "cell_type": "markdown",
      "source": [
        "\n",
        "\n",
        "---\n",
        "\n"
      ],
      "metadata": {
        "id": "E4KuIiYwzN8l"
      }
    },
    {
      "cell_type": "markdown",
      "source": [
        "# Summary and Lessons Learned"
      ],
      "metadata": {
        "id": "PoDsEn7szI1G"
      }
    },
    {
      "cell_type": "markdown",
      "source": [
        "**Summary:**\n",
        "\n",
        "In doing this assignment where we are tasked to: It is also possible to save models in a number of formats. Checkpoints should be set to establish which of the neural network should be selected and which should be considered for improvement before reloading it. Applying dropout selects a subset of neurons for the current processing step in both the visible layer and the hidden layer. Next, implement time-based learning rate schedule and then drop-based learning rate schedule. These are all the things that I have done in this assignment with the help of our module and notebook. Regarding this assignment, I have realized that choosing a dataset is a crucial step and is likely to affect the accuracy of your model. In conclusion, I have been able to learn a number of things whenever it comes to saving a model in this assignment.\n",
        "\n",
        "---\n",
        "\n",
        "**Lessons Learned:**\n",
        "\n",
        "If models have to be saved in HDF5, JSON, YAML, or Keras then checkpoints can be used to enhance the saved models and to know which model is the best among them the saved models can be loaded. Use dropout in visible layer and hidden layer of the network. Equally use time-based learning rate schedule and drop-based learning rate schedule."
      ],
      "metadata": {
        "id": "KCAJILe-zPK9"
      }
    }
  ]
}